{
 "cells": [
  {
   "cell_type": "markdown",
   "metadata": {},
   "source": [
    "Text file read and write"
   ]
  },
  {
   "cell_type": "code",
   "execution_count": 1,
   "metadata": {},
   "outputs": [
    {
     "name": "stdout",
     "output_type": "stream",
     "text": [
      "Hello\n"
     ]
    }
   ],
   "source": [
    "print(\"Hello\")"
   ]
  },
  {
   "cell_type": "markdown",
   "metadata": {},
   "source": [
    "- File open\n",
    "- File read/write operation\n",
    "- File close"
   ]
  },
  {
   "cell_type": "code",
   "execution_count": 14,
   "metadata": {},
   "outputs": [],
   "source": [
    "f = open('data_1.txt', 'r')"
   ]
  },
  {
   "cell_type": "code",
   "execution_count": 15,
   "metadata": {},
   "outputs": [
    {
     "name": "stdout",
     "output_type": "stream",
     "text": [
      "This is the file contents of data_1.txt.\n",
      "This is another line\n",
      "THis is the third line\n"
     ]
    }
   ],
   "source": [
    "data = f.read()\n",
    "print(data)"
   ]
  },
  {
   "cell_type": "code",
   "execution_count": 16,
   "metadata": {},
   "outputs": [],
   "source": [
    "f.close()"
   ]
  },
  {
   "cell_type": "markdown",
   "metadata": {},
   "source": [
    "- read()\n",
    "- readline()\n",
    "- readlines()"
   ]
  },
  {
   "cell_type": "markdown",
   "metadata": {},
   "source": [
    "Function to read a file.\n",
    "\n",
    "- Input: file name\n",
    "- Output: file content"
   ]
  },
  {
   "cell_type": "code",
   "execution_count": 18,
   "metadata": {},
   "outputs": [],
   "source": [
    "def read_file(file_name):\n",
    "    f = open(file_name, 'r')\n",
    "    data = f.readlines()\n",
    "    f.close()\n",
    "    \n",
    "    return data"
   ]
  },
  {
   "cell_type": "code",
   "execution_count": 19,
   "metadata": {},
   "outputs": [
    {
     "name": "stdout",
     "output_type": "stream",
     "text": [
      "['This is the file contents of data_1.txt.\\n', 'This is another line\\n', 'THis is the third line']\n"
     ]
    }
   ],
   "source": [
    "output = read_file('data_1.txt')\n",
    "print(output)"
   ]
  },
  {
   "cell_type": "code",
   "execution_count": 63,
   "metadata": {},
   "outputs": [
    {
     "name": "stdout",
     "output_type": "stream",
     "text": [
      "['This is the file contents of data_2.txt.\\n', 'This is the second line.\\n', 'This is the third line.\\n', 'This is the fourth line.']\n"
     ]
    }
   ],
   "source": [
    "returned_value_from_file_2 = read_file('data_2.txt')\n",
    "print(returned_value_from_file_2)"
   ]
  },
  {
   "cell_type": "markdown",
   "metadata": {},
   "source": [
    "readline() has a different use case"
   ]
  },
  {
   "cell_type": "code",
   "execution_count": 70,
   "metadata": {},
   "outputs": [
    {
     "name": "stdout",
     "output_type": "stream",
     "text": [
      "0\n",
      "This is the file contents of data_2.txt.\n",
      "\n",
      "1\n",
      "This is the second line.\n",
      "\n",
      "2\n",
      "This is the third line.\n",
      "\n",
      "3\n",
      "This is the fourth line.\n",
      "4\n",
      "\n",
      "5\n",
      "\n",
      "6\n",
      "\n",
      "7\n",
      "\n",
      "8\n",
      "\n",
      "9\n",
      "\n"
     ]
    }
   ],
   "source": [
    "file_handler = open('data_2.txt', 'r')\n",
    "\n",
    "for i in range(10):\n",
    "    print(i)\n",
    "    string_value = file_handler.readline()\n",
    "    print(string_value)"
   ]
  },
  {
   "cell_type": "markdown",
   "metadata": {},
   "source": [
    "Write\n",
    "- w - write (but it overwrites)\n",
    "- a - append (it adds to the end of the file)"
   ]
  },
  {
   "cell_type": "code",
   "execution_count": 78,
   "metadata": {},
   "outputs": [],
   "source": [
    "string_value = \"My name is John.\"\n",
    "\n",
    "file_handler = open('data_3.txt', 'a')"
   ]
  },
  {
   "cell_type": "code",
   "execution_count": 79,
   "metadata": {},
   "outputs": [
    {
     "data": {
      "text/plain": [
       "16"
      ]
     },
     "execution_count": 79,
     "metadata": {},
     "output_type": "execute_result"
    }
   ],
   "source": [
    "file_handler.write(string_value)"
   ]
  },
  {
   "cell_type": "code",
   "execution_count": 80,
   "metadata": {},
   "outputs": [],
   "source": [
    "file_handler.close()"
   ]
  },
  {
   "cell_type": "markdown",
   "metadata": {},
   "source": [
    "- \\n - new line - special character"
   ]
  },
  {
   "cell_type": "code",
   "execution_count": 91,
   "metadata": {},
   "outputs": [],
   "source": [
    "another_string_value = [\"My name is Saksham.\\r\",\n",
    "                        \"I live in Ludhiana.\\r\" ,\n",
    "                        \"I am in year 12.\\r\"\n",
    "                    ]"
   ]
  },
  {
   "cell_type": "code",
   "execution_count": 92,
   "metadata": {},
   "outputs": [],
   "source": [
    "file_handler = open('data_3.txt', 'w')\n",
    "file_handler.writelines(another_string_value)\n",
    "file_handler.close()"
   ]
  },
  {
   "cell_type": "markdown",
   "metadata": {},
   "source": [
    "Binary File"
   ]
  },
  {
   "cell_type": "code",
   "execution_count": 108,
   "metadata": {},
   "outputs": [],
   "source": [
    "dictionary = {\n",
    "    \"username_password\": [\n",
    "        {\n",
    "            \"username\": \"john\",\n",
    "            \"password\": \"1234\"\n",
    "        },\n",
    "        {\n",
    "            \"username\": \"saksham\",\n",
    "            \"password\": \"5678\"\n",
    "        }\n",
    "    ]\n",
    "}"
   ]
  },
  {
   "cell_type": "code",
   "execution_count": 110,
   "metadata": {},
   "outputs": [],
   "source": [
    "import pickle\n",
    "\n",
    "file_handler = open('dictionary_file.dat', 'wb')\n",
    "pickle.dump(dictionary, file_handler)\n",
    "file_handler.close()"
   ]
  },
  {
   "cell_type": "markdown",
   "metadata": {},
   "source": [
    "Read binary"
   ]
  },
  {
   "cell_type": "code",
   "execution_count": 111,
   "metadata": {},
   "outputs": [],
   "source": [
    "file_handler = open('dictionary_file.dat', 'rb')\n",
    "read_dictionary = pickle.load(file_handler)\n",
    "file_handler.close()"
   ]
  },
  {
   "cell_type": "code",
   "execution_count": 113,
   "metadata": {},
   "outputs": [
    {
     "name": "stdout",
     "output_type": "stream",
     "text": [
      "{'username_password': [{'username': 'john', 'password': '1234'}, {'username': 'saksham', 'password': '5678'}]}\n"
     ]
    }
   ],
   "source": [
    "(print(read_dictionary))"
   ]
  },
  {
   "cell_type": "markdown",
   "metadata": {},
   "source": [
    "C:\\Users\\SitansuSekhar\\Documents\\Python_Workspace\\SakshamTutorial"
   ]
  },
  {
   "cell_type": "code",
   "execution_count": 115,
   "metadata": {},
   "outputs": [
    {
     "data": {
      "text/plain": [
       "'c:\\\\Users\\\\SitansuSekhar\\\\Documents\\\\Python_Workspace\\\\SakshamTutorial\\\\codes\\\\chapter4'"
      ]
     },
     "execution_count": 115,
     "metadata": {},
     "output_type": "execute_result"
    }
   ],
   "source": [
    "import os\n",
    "os.getcwd()"
   ]
  },
  {
   "cell_type": "code",
   "execution_count": 116,
   "metadata": {},
   "outputs": [],
   "source": [
    "file_handler = open(\"C:\\\\Users\\\\SitansuSekhar\\\\Documents\\\\Python_Workspace\\\\SakshamTutorial\\\\test.txt\",'r')\n",
    "value = file_handler.read()\n",
    "file_handler.close()"
   ]
  },
  {
   "cell_type": "code",
   "execution_count": 118,
   "metadata": {},
   "outputs": [],
   "source": [
    "file_handler = open(\"data_2.txt\", 'r')"
   ]
  },
  {
   "cell_type": "code",
   "execution_count": 119,
   "metadata": {},
   "outputs": [
    {
     "data": {
      "text/plain": [
       "0"
      ]
     },
     "execution_count": 119,
     "metadata": {},
     "output_type": "execute_result"
    }
   ],
   "source": [
    "file_handler.tell()"
   ]
  },
  {
   "cell_type": "code",
   "execution_count": 120,
   "metadata": {},
   "outputs": [
    {
     "data": {
      "text/plain": [
       "2"
      ]
     },
     "execution_count": 120,
     "metadata": {},
     "output_type": "execute_result"
    }
   ],
   "source": [
    "file_handler.seek(2)"
   ]
  },
  {
   "cell_type": "code",
   "execution_count": 122,
   "metadata": {},
   "outputs": [
    {
     "data": {
      "text/plain": [
       "'is is the file contents of data_2.txt.\\n'"
      ]
     },
     "execution_count": 122,
     "metadata": {},
     "output_type": "execute_result"
    }
   ],
   "source": [
    "file_handler.readline()"
   ]
  },
  {
   "cell_type": "code",
   "execution_count": 123,
   "metadata": {},
   "outputs": [
    {
     "data": {
      "text/plain": [
       "42"
      ]
     },
     "execution_count": 123,
     "metadata": {},
     "output_type": "execute_result"
    }
   ],
   "source": [
    "file_handler.tell()"
   ]
  },
  {
   "cell_type": "code",
   "execution_count": 124,
   "metadata": {},
   "outputs": [
    {
     "data": {
      "text/plain": [
       "'This is the second line.\\n'"
      ]
     },
     "execution_count": 124,
     "metadata": {},
     "output_type": "execute_result"
    }
   ],
   "source": [
    "file_handler.readline()"
   ]
  },
  {
   "cell_type": "code",
   "execution_count": 128,
   "metadata": {},
   "outputs": [
    {
     "data": {
      "text/plain": [
       "0"
      ]
     },
     "execution_count": 128,
     "metadata": {},
     "output_type": "execute_result"
    }
   ],
   "source": [
    "file_handler.seek(0)"
   ]
  },
  {
   "cell_type": "code",
   "execution_count": 133,
   "metadata": {},
   "outputs": [
    {
     "data": {
      "text/plain": [
       "0"
      ]
     },
     "execution_count": 133,
     "metadata": {},
     "output_type": "execute_result"
    }
   ],
   "source": [
    "file_handler.seek(0)"
   ]
  },
  {
   "cell_type": "code",
   "execution_count": 132,
   "metadata": {},
   "outputs": [
    {
     "data": {
      "text/plain": [
       "''"
      ]
     },
     "execution_count": 132,
     "metadata": {},
     "output_type": "execute_result"
    }
   ],
   "source": [
    "file_handler.readline()"
   ]
  },
  {
   "cell_type": "code",
   "execution_count": 134,
   "metadata": {},
   "outputs": [],
   "source": [
    "import csv"
   ]
  },
  {
   "cell_type": "code",
   "execution_count": 147,
   "metadata": {},
   "outputs": [
    {
     "name": "stdout",
     "output_type": "stream",
     "text": [
      "['\\ufeffName', 'Address', 'Number']\n",
      "['Saksham', 'Ludhiana', '1233456']\n",
      "['Sitansu', 'Adelaide', '3456778']\n",
      "['Meenakshi', 'Adelaide', '456798']\n",
      "['Charlotte', 'Adelaide', '56893']\n"
     ]
    }
   ],
   "source": [
    "file_handler = open('data.csv','r')\n",
    "csv_contents = csv.reader(file_handler)\n",
    "\n",
    "for row in csv_contents:\n",
    "    print(row)\n",
    "\n",
    "file_handler.close()"
   ]
  },
  {
   "cell_type": "code",
   "execution_count": 149,
   "metadata": {},
   "outputs": [],
   "source": [
    "username_passord = [\n",
    "    ['username', 'password'],\n",
    "    ['john', '1234'],\n",
    "    ['saksham', '5678']\n",
    "]\n"
   ]
  },
  {
   "cell_type": "code",
   "execution_count": 152,
   "metadata": {},
   "outputs": [
    {
     "name": "stdout",
     "output_type": "stream",
     "text": [
      "['username', 'password']\n",
      "['john', '1234']\n",
      "['saksham', '5678']\n"
     ]
    }
   ],
   "source": [
    "file_handler = open('username_password.csv', 'w')\n",
    "\n",
    "csv_writer = csv.writer(file_handler)\n",
    "\n",
    "for row in username_passord:\n",
    "    print(row)\n",
    "    csv_writer.writerow(row)\n",
    "\n",
    "file_handler.close()"
   ]
  },
  {
   "cell_type": "code",
   "execution_count": 155,
   "metadata": {},
   "outputs": [
    {
     "name": "stdout",
     "output_type": "stream",
     "text": [
      "sitansu\n",
      "\n",
      "saksham\n",
      "\n",
      "meenakshi\n",
      "\n"
     ]
    }
   ],
   "source": [
    "lst = [\n",
    "    \"sitansu\\n\",\n",
    "    \"saksham\\n\",\n",
    "    \"meenakshi\\n\"\n",
    "]\n",
    "\n",
    "file_handler = open('data_3.txt', 'w')\n",
    "\n",
    "for name in lst:\n",
    "    print(name)\n",
    "    file_handler.write(name)\n",
    "    \n",
    "file_handler.close()\n"
   ]
  },
  {
   "cell_type": "code",
   "execution_count": 1,
   "metadata": {},
   "outputs": [],
   "source": [
    "file = open('data_1.txt', 'r')\n",
    "file_contents = file.read()\n",
    "file.close()\n"
   ]
  },
  {
   "cell_type": "code",
   "execution_count": 2,
   "metadata": {},
   "outputs": [
    {
     "name": "stdout",
     "output_type": "stream",
     "text": [
      "This is the file contents of data_1.txt.\n",
      "\n"
     ]
    }
   ],
   "source": [
    "print(file_contents)"
   ]
  },
  {
   "cell_type": "code",
   "execution_count": null,
   "metadata": {},
   "outputs": [],
   "source": [
    "with open('data_1.txt', 'r') as file:\n",
    "    file_contents = file.read()"
   ]
  },
  {
   "cell_type": "code",
   "execution_count": 4,
   "metadata": {},
   "outputs": [],
   "source": [
    "string = [\"Saksham\\n\", \"Meenakshi\\n\", \"Sitansu\\n\"]\n",
    "\n",
    "with open('data_3.txt', 'w') as file:\n",
    "    file.writelines(string)"
   ]
  },
  {
   "cell_type": "code",
   "execution_count": 5,
   "metadata": {},
   "outputs": [],
   "source": [
    "string = [\"Charlotte\\n\", \"Sakshi\\n\", \"Himanshu\\n\"]\n",
    "\n",
    "with open('data_3.txt', 'a') as file:\n",
    "    file.writelines(string)"
   ]
  },
  {
   "cell_type": "code",
   "execution_count": 6,
   "metadata": {},
   "outputs": [],
   "source": [
    "string = \"This is another line\"\n",
    "\n",
    "with open('data_3.txt', 'a') as file:\n",
    "    file.write(string)"
   ]
  },
  {
   "cell_type": "code",
   "execution_count": 8,
   "metadata": {},
   "outputs": [
    {
     "name": "stdout",
     "output_type": "stream",
     "text": [
      "Data:  This is another line\n"
     ]
    }
   ],
   "source": [
    "print(\"Data: \", string)"
   ]
  },
  {
   "cell_type": "code",
   "execution_count": 12,
   "metadata": {},
   "outputs": [
    {
     "name": "stdout",
     "output_type": "stream",
     "text": [
      "This is the file contents of data_1.txt.\n",
      "\n"
     ]
    }
   ],
   "source": [
    "file_name = \"data_1.txt\"\n",
    "\n",
    "try:\n",
    "    with open(file_name, 'r') as file:\n",
    "        # file_contents = file.read()\n",
    "        for line in file:\n",
    "            print(line)\n",
    "except IOError:\n",
    "    print(\"Error\")"
   ]
  },
  {
   "cell_type": "code",
   "execution_count": 16,
   "metadata": {},
   "outputs": [
    {
     "name": "stdout",
     "output_type": "stream",
     "text": [
      "12\n",
      "\n",
      "13\n",
      "\n",
      "18\n",
      "\n",
      "100\n",
      "\n",
      "1001\n",
      "\n",
      "5000\n"
     ]
    }
   ],
   "source": [
    "f = open('data.txt','r')\n",
    "data = f.readlines()\n",
    "for i in data:\n",
    "    print(i)\n",
    "f.close()"
   ]
  },
  {
   "cell_type": "code",
   "execution_count": 1,
   "metadata": {},
   "outputs": [
    {
     "name": "stdout",
     "output_type": "stream",
     "text": [
      "12\n",
      "\n",
      "13\n",
      "\n",
      "18\n",
      "\n",
      "100\n",
      "\n",
      "1001\n",
      "\n",
      "5000\n"
     ]
    }
   ],
   "source": [
    "f = open('data.txt','r')\n",
    "\n",
    "while True: # forever\n",
    "    data = f.readline()\n",
    "    if data != '':\n",
    "        print(data)\n",
    "    else:\n",
    "        break\n",
    "f.close()\n",
    "    "
   ]
  },
  {
   "cell_type": "markdown",
   "metadata": {},
   "source": [
    "1. for loop with range = 5\n",
    "2. input into the sentence: input()\n",
    "3. append\n"
   ]
  },
  {
   "cell_type": "code",
   "execution_count": 1,
   "metadata": {},
   "outputs": [],
   "source": [
    "f = open('sentences.txt','a')\n",
    "\n",
    "for i in range(0,5):\n",
    "    string = input(\"Enter the your sentence\")\n",
    "    f.write(string)\n",
    "    \n",
    "f.close()"
   ]
  },
  {
   "cell_type": "code",
   "execution_count": 21,
   "metadata": {},
   "outputs": [],
   "source": [
    "f = open('sentences.txt', 'r')\n",
    "data = f.read()\n",
    "lines = data.split('\\n')\n",
    "\n",
    "count = 0\n",
    "for line in lines:\n",
    "    individual_words = line.split(' ')\n",
    "    count = count + len(individual_words)\n",
    "    \n",
    "f.close()"
   ]
  },
  {
   "cell_type": "code",
   "execution_count": 25,
   "metadata": {},
   "outputs": [
    {
     "name": "stdout",
     "output_type": "stream",
     "text": [
      "['Name', 'Age', 'Grade', 'Address']\n",
      "[]\n",
      "['Saksham', '17', 'A', 'Ludhiana']\n",
      "[]\n",
      "['Sitansu', '31', 'A', 'Adelaide']\n",
      "[]\n"
     ]
    }
   ],
   "source": [
    "import csv\n",
    "\n",
    "f = open('students.csv','r')\n",
    "\n",
    "csv_read = csv.reader(f)\n",
    "\n",
    "for content in csv_read:\n",
    "    print(content)\n",
    "    \n",
    "f.close()"
   ]
  },
  {
   "cell_type": "code",
   "execution_count": 24,
   "metadata": {},
   "outputs": [],
   "source": [
    "student_list = [\n",
    "    ['Name','Age','Grade','Address'],\n",
    "    ['Saksham', '17', 'A', 'Ludhiana'],\n",
    "    ['Sitansu', '31', 'A', 'Adelaide']\n",
    "]\n",
    "\n",
    "f = open('students.csv','w')\n",
    "\n",
    "csv_write = csv.writer(f)\n",
    "\n",
    "for row in student_list:\n",
    "    csv_write.writerow(row)\n",
    "\n",
    "f.close()"
   ]
  },
  {
   "cell_type": "markdown",
   "metadata": {},
   "source": [
    "Image file copying\n",
    "\n",
    "1. read image file as binary\n",
    "2. write the binary data to another image file"
   ]
  },
  {
   "cell_type": "code",
   "execution_count": 26,
   "metadata": {},
   "outputs": [],
   "source": [
    "f = open('india_gate.jpg','rb')\n",
    "j = open('india_gate_2.jpg', 'wb')\n",
    "\n",
    "data = f.read()\n",
    "j.write(data)\n",
    "\n",
    "f.close()\n",
    "j.close()\n"
   ]
  },
  {
   "cell_type": "code",
   "execution_count": 42,
   "metadata": {},
   "outputs": [],
   "source": [
    "f = open('story.txt', 'r')\n",
    "\n",
    "data = f.readlines()\n",
    "count = 0\n",
    "for line in data:\n",
    "    if line[0] == 'A':\n",
    "        count = count + 1\n",
    "f.close()"
   ]
  },
  {
   "cell_type": "code",
   "execution_count": 50,
   "metadata": {},
   "outputs": [],
   "source": [
    "f = open('story.txt', 'r')\n",
    "\n",
    "count = 0\n",
    "\n",
    "while True:\n",
    "    line = f.readline() # ''\n",
    "    if line == '':\n",
    "        break\n",
    "    \n",
    "    elif line[0] == 'A':\n",
    "        count = count + 1\n",
    "    \n",
    "f.close()"
   ]
  },
  {
   "cell_type": "markdown",
   "metadata": {},
   "source": [
    "Once upon a time ago                \n",
    "a frog was present in the river.\n",
    "the frog had many friends.\n",
    "Another frog was jealous of the frog."
   ]
  },
  {
   "cell_type": "code",
   "execution_count": 4,
   "metadata": {},
   "outputs": [
    {
     "name": "stdout",
     "output_type": "stream",
     "text": [
      "<class 'str'>\n"
     ]
    }
   ],
   "source": [
    "with open('data_2.txt','r') as file:\n",
    "    data = file.read()\n",
    "\n",
    "print(type(data))"
   ]
  },
  {
   "cell_type": "code",
   "execution_count": 5,
   "metadata": {},
   "outputs": [],
   "source": [
    "num_list = [1,2,3,4,5]\n",
    "\n",
    "squared_list = []\n",
    "for num in num_list:\n",
    "    squared_list.append(num**2)"
   ]
  },
  {
   "cell_type": "code",
   "execution_count": 6,
   "metadata": {},
   "outputs": [
    {
     "name": "stdout",
     "output_type": "stream",
     "text": [
      "[1, 4, 9, 16, 25]\n"
     ]
    }
   ],
   "source": [
    "squared_list = [num**2 for num in num_list]"
   ]
  },
  {
   "cell_type": "code",
   "execution_count": 11,
   "metadata": {},
   "outputs": [
    {
     "name": "stdout",
     "output_type": "stream",
     "text": [
      "0-1-3-4-"
     ]
    }
   ],
   "source": [
    "for i in range(5):\n",
    "    if i == 2:\n",
    "        continue\n",
    "    print(i, end='-')"
   ]
  },
  {
   "cell_type": "code",
   "execution_count": 16,
   "metadata": {},
   "outputs": [
    {
     "name": "stdout",
     "output_type": "stream",
     "text": [
      "Hello world I am saksham."
     ]
    }
   ],
   "source": [
    "print(\"Hello world I am saksham\",end='.')"
   ]
  },
  {
   "cell_type": "code",
   "execution_count": 22,
   "metadata": {},
   "outputs": [
    {
     "name": "stdout",
     "output_type": "stream",
     "text": [
      "[2, 4, 6, 8, 10]\n"
     ]
    }
   ],
   "source": [
    "num_list = [1,2,3,4,5]\n",
    "\n",
    "for i, num in enumerate(num_list):\n",
    "    num_list[i] *=2\n",
    "print(num_list)"
   ]
  },
  {
   "cell_type": "code",
   "execution_count": 29,
   "metadata": {},
   "outputs": [
    {
     "name": "stdout",
     "output_type": "stream",
     "text": [
      "LONDON\n",
      "NEW YORK\n"
     ]
    }
   ],
   "source": [
    "PLACES = {1: \"Delhi\", 2: \"London\", 3: \"Paris\", 4: \"New York\", 5: \"Doha\"}\n",
    "\n",
    "def countNow(PLACES):\n",
    "    for i in PLACES:\n",
    "        if len(PLACES[i])> 5:\n",
    "            print(PLACES[i].upper())\n",
    "        \n",
    "countNow(PLACES)"
   ]
  },
  {
   "cell_type": "code",
   "execution_count": 34,
   "metadata": {},
   "outputs": [
    {
     "data": {
      "text/plain": [
       "(4, 3, 2, 4, 4, 4)"
      ]
     },
     "execution_count": 34,
     "metadata": {},
     "output_type": "execute_result"
    }
   ],
   "source": [
    "def lenWOrds(STRING):\n",
    "    lst = []\n",
    "    for word in STRING.split():\n",
    "        lst.append(len(word))\n",
    "        \n",
    "    return tuple(lst)\n",
    "\n",
    "lenWOrds(\"Come let us have some fun.\")"
   ]
  },
  {
   "cell_type": "code",
   "execution_count": null,
   "metadata": {},
   "outputs": [],
   "source": [
    "def randomExample(a, b):\n",
    "    return a+b, a-b, a*b, a/b"
   ]
  },
  {
   "cell_type": "code",
   "execution_count": 39,
   "metadata": {},
   "outputs": [
    {
     "name": "stdout",
     "output_type": "stream",
     "text": [
      "0\n",
      "1\n",
      "2\n"
     ]
    }
   ],
   "source": [
    "for i in range(5):\n",
    "    print(i)\n",
    "    if i == 2:\n",
    "        break"
   ]
  },
  {
   "cell_type": "code",
   "execution_count": 55,
   "metadata": {},
   "outputs": [],
   "source": [
    "lst = [1,2,3,4,5,6,7,8]\n",
    "lst.insert(3,200)"
   ]
  },
  {
   "cell_type": "code",
   "execution_count": 56,
   "metadata": {},
   "outputs": [
    {
     "name": "stdout",
     "output_type": "stream",
     "text": [
      "[1, 2, 3, 200, 4, 5, 6, 7, 8]\n"
     ]
    }
   ],
   "source": [
    "print(lst)"
   ]
  },
  {
   "cell_type": "code",
   "execution_count": 62,
   "metadata": {},
   "outputs": [],
   "source": [
    "import math\n",
    "\n",
    "student_age = [ 17, 18, 17, 17, 19, 20, 21, 22, 23, 24, 25]\n",
    "\n",
    "common_age = max(student_age, key=student_age.count)"
   ]
  },
  {
   "cell_type": "code",
   "execution_count": 68,
   "metadata": {},
   "outputs": [
    {
     "data": {
      "text/plain": [
       "1"
      ]
     },
     "execution_count": 68,
     "metadata": {},
     "output_type": "execute_result"
    }
   ],
   "source": [
    "tup1 = (10,20,30,(10,20,30),40)\n",
    "tup1.index(20)"
   ]
  },
  {
   "cell_type": "code",
   "execution_count": null,
   "metadata": {},
   "outputs": [],
   "source": [
    "def max_num(L):\n",
    "    max = L[0] # max = 100\n",
    "    for a in L:\n",
    "        if a > max:\n",
    "            max = a\n",
    "    return max\n",
    "\n",
    "lst = [100,20,40,500, 1]"
   ]
  },
  {
   "cell_type": "code",
   "execution_count": 3,
   "metadata": {},
   "outputs": [
    {
     "name": "stdout",
     "output_type": "stream",
     "text": [
      "You are great\n",
      "\n",
      "You are Saksham\n",
      "\n"
     ]
    }
   ],
   "source": [
    "f = open('Alpha.txt','r')\n",
    "data = f.readlines()\n",
    "for line in data:\n",
    "    if line.startswith('You'):\n",
    "        print(line)"
   ]
  },
  {
   "cell_type": "code",
   "execution_count": 8,
   "metadata": {},
   "outputs": [
    {
     "name": "stdout",
     "output_type": "stream",
     "text": [
      "['Saksham', 'Sitansu']\n",
      "['Saksham']\n"
     ]
    }
   ],
   "source": [
    "def add_employee(Employee, name):\n",
    "    Employee.append(name)\n",
    "    return Employee\n",
    "\n",
    "def delete_employee(Employee):\n",
    "    Employee.pop()\n",
    "    return Employee\n",
    "\n",
    "def display_employee(Employee):\n",
    "    for name in Employee:\n",
    "        print(name)\n",
    "\n",
    "Employee = [] # empty list\n",
    "Employee = add_employee(Employee, 'Saksham')\n",
    "Employee = add_employee(Employee, 'Sitansu')\n",
    "\n",
    "print(Employee)\n",
    "\n",
    "Employee = delete_employee(Employee)\n",
    "print(Employee)"
   ]
  },
  {
   "cell_type": "code",
   "execution_count": 21,
   "metadata": {},
   "outputs": [
    {
     "name": "stdout",
     "output_type": "stream",
     "text": [
      "['T', 'h', 'i', 's', ' ', 'i', 's', ' ', 'S', 'i', 't', 'a', 'n', 's', 'u', '\\n', 'T', 'h', 'i', 's', ' ', 'i', 's', ' ', 'S', 'a', 'k', 's', 'h', 'a', 'm']\n"
     ]
    }
   ],
   "source": [
    "def func():\n",
    "    f = open('Book.txt','r')\n",
    "    data = f.read()\n",
    "    data1 = list(data)\n",
    "    \n",
    "    print(data1)\n",
    "    \n",
    "    count_upper = 0\n",
    "    count_lower = 0\n",
    "    for char in data1:\n",
    "        if char.isupper():\n",
    "            count_upper = count_upper + 1\n",
    "        elif char.islower():\n",
    "            count_lower = count_lower + 1\n",
    "            \n",
    "    f.close()\n",
    "    return count_upper, count_lower\n",
    "    \n",
    "    \n",
    "count_upper, count_lower = func()"
   ]
  },
  {
   "cell_type": "code",
   "execution_count": 22,
   "metadata": {},
   "outputs": [
    {
     "name": "stdout",
     "output_type": "stream",
     "text": [
      "22\n"
     ]
    }
   ],
   "source": [
    "print(count_lower)"
   ]
  },
  {
   "cell_type": "code",
   "execution_count": 33,
   "metadata": {},
   "outputs": [],
   "source": [
    "import pickle\n",
    "\n",
    "def write_to_student_binary(student_data):\n",
    "    f = open('student.dat','ab')\n",
    "    pickle.dump(student_data, f)\n",
    "    f.close()\n",
    "\n",
    "student1 = {\n",
    "    \"name\": \"Saksham\",\n",
    "    \"roll_number\": 1,\n",
    "    \"marks\": 90\n",
    "}\n",
    "\n",
    "student2 = {\n",
    "    \"name\": \"Sitansu\",\n",
    "    \"roll_number\": 2,\n",
    "    \"marks\": 85\n",
    "}\n",
    "\n",
    "write_to_student_binary(student1)\n",
    "write_to_student_binary(student2)"
   ]
  },
  {
   "cell_type": "code",
   "execution_count": 35,
   "metadata": {},
   "outputs": [
    {
     "name": "stdout",
     "output_type": "stream",
     "text": [
      "{'name': 'Saksham', 'roll_number': 1, 'marks': 90}\n",
      "{'name': 'Sitansu', 'roll_number': 2, 'marks': 85}\n"
     ]
    }
   ],
   "source": [
    "def read_from_student_binary():\n",
    "    f = open('student.dat','rb')\n",
    "    while True:\n",
    "        try:\n",
    "            student_data = pickle.load(f)\n",
    "            print(student_data)\n",
    "        except EOFError:\n",
    "            break\n",
    "    f.close()\n",
    "    \n",
    "read_from_student_binary()"
   ]
  },
  {
   "cell_type": "code",
   "execution_count": 36,
   "metadata": {},
   "outputs": [],
   "source": [
    "import csv\n",
    "\n",
    "def Accept():\n",
    "    f = open('student.csv','a')\n",
    "    csv_writer = csv.writer(f)\n",
    "    csv_writer.writerow(['St_Id', 'St_Name', 'Game_Name', 'Result'])\n",
    "    \n",
    "    for i in range(5):\n",
    "        \n",
    "        id = input(\"Enter ID: \")\n",
    "        name = input(\"Enter Name: \")\n",
    "        game = input(\"Enter Game: \")\n",
    "        result = input(\"Enter Result: \")\n",
    "        \n",
    "        csv_writer.writerow([id, name, game, result])\n",
    "        \n",
    "    f.close()\n"
   ]
  },
  {
   "cell_type": "code",
   "execution_count": 43,
   "metadata": {},
   "outputs": [],
   "source": [
    "def Accept():\n",
    "    f = open('student.csv','a')\n",
    "    csv_writer = csv.writer(f)\n",
    "    csv_writer.writerow(['St_Id', 'St_Name', 'Game_Name', 'Result'])\n",
    "    \n",
    "    while True:\n",
    "        id = input(\"Enter ID: \")\n",
    "        name = input(\"Enter Name: \")\n",
    "        game = input(\"Enter Game: \")\n",
    "        result = input(\"Enter Result: \")\n",
    "\n",
    "        csv_writer.writerow([id, name, game, result])\n",
    "        \n",
    "        cont = input(\"Do you want to continue? (Y/N): \")\n",
    "        if cont == 'N':\n",
    "            break\n",
    "        \n",
    "    f.close()\n",
    "    \n",
    "Accept()"
   ]
  },
  {
   "cell_type": "code",
   "execution_count": null,
   "metadata": {},
   "outputs": [],
   "source": [
    "Accept()"
   ]
  },
  {
   "cell_type": "code",
   "execution_count": 41,
   "metadata": {},
   "outputs": [],
   "source": [
    "def wonCount():\n",
    "    f = open('student.csv','r')\n",
    "    csv_reader = csv.reader(f)\n",
    "    \n",
    "    count = 0\n",
    "    for row in csv_reader:\n",
    "        if row[3] == 'Won':\n",
    "            count = count + 1\n",
    "    f.close()\n",
    "    return count\n",
    "\n",
    "count = wonCount()"
   ]
  },
  {
   "cell_type": "code",
   "execution_count": 42,
   "metadata": {},
   "outputs": [
    {
     "name": "stdout",
     "output_type": "stream",
     "text": [
      "3\n"
     ]
    }
   ],
   "source": [
    "print(count)"
   ]
  },
  {
   "cell_type": "code",
   "execution_count": 44,
   "metadata": {},
   "outputs": [],
   "source": [
    "movie1 = {\n",
    "    1 : [\"The Shawshank Redemption\", \"Action\"],\n",
    "    2: [\"The Godfather\", \"Action\"],\n",
    "    3: [\"The Dark Knight\", \"Action\"],\n",
    "    4: [\"3 Idiots\", \"Comedy\"],\n",
    "    5: [\"The Pursuit of Happyness\", \"Drama\"]\n",
    "}\n",
    "\n",
    "with open('CINEMA.dat', 'ab') as f:\n",
    "    pickle.dump(movie1, f)"
   ]
  },
  {
   "cell_type": "code",
   "execution_count": 53,
   "metadata": {},
   "outputs": [],
   "source": [
    "# if we dont know the number of records in a file\n",
    "# we use While True loop\n",
    "# we use EOFError to break the loop\n",
    "\n",
    "def findType(MTYPE):\n",
    "    f = open('CINEMA.dat','rb')\n",
    "    while True: # because we dont know how many records are there\n",
    "        try:\n",
    "            data = pickle.load(f)               # load() read one record at a time\n",
    "            for key in data:                    # key is 1, 2, 3, 4, 5\n",
    "                if data[key][1] == MTYPE:       # 0 is movie name, 1 is movie type\n",
    "                    print(data[key][0])\n",
    "        except EOFError:\n",
    "            print(\"End of file reached\")\n",
    "            break\n",
    "    f.close()"
   ]
  },
  {
   "cell_type": "code",
   "execution_count": null,
   "metadata": {},
   "outputs": [],
   "source": []
  }
 ],
 "metadata": {
  "kernelspec": {
   "display_name": "saksham_env",
   "language": "python",
   "name": "python3"
  },
  "language_info": {
   "codemirror_mode": {
    "name": "ipython",
    "version": 3
   },
   "file_extension": ".py",
   "mimetype": "text/x-python",
   "name": "python",
   "nbconvert_exporter": "python",
   "pygments_lexer": "ipython3",
   "version": "3.12.7"
  }
 },
 "nbformat": 4,
 "nbformat_minor": 2
}
